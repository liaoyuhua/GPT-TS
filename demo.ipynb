{
 "cells": [
  {
   "cell_type": "code",
   "execution_count": 1,
   "metadata": {},
   "outputs": [],
   "source": [
    "import torch\n",
    "from torch.utils.data import Dataset\n",
    "from torch.utils.data.dataloader import DataLoader\n",
    "from src.utils import set_seed\n",
    "from src.model import GPT2TS\n",
    "from src.trainer import Trainer\n",
    "from src.dataset import Dataset_ETT_minute, Dataset_ETT_hour"
   ]
  },
  {
   "cell_type": "code",
   "execution_count": null,
   "metadata": {},
   "outputs": [],
   "source": [
    "set_seed(3407)"
   ]
  },
  {
   "cell_type": "code",
   "execution_count": null,
   "metadata": {},
   "outputs": [],
   "source": [
    "trainset = Dataset_ETT_hour(root_path='./data', flag='train',)\n",
    "valset = Dataset_ETT_hour(root_path='./data', flag='val')\n",
    "testset = Dataset_ETT_hour(root_path='./data', flag='test')"
   ]
  },
  {
   "cell_type": "code",
   "execution_count": null,
   "metadata": {},
   "outputs": [],
   "source": [
    "model = GPT2TS.from_pretrained(\n",
    "    config={\n",
    "        'input_len':trainset.seq_len,\n",
    "        'pred_len':trainset.pred_len,\n",
    "        'n_layer':6,\n",
    "        'model_type':'gpt2',\n",
    "        'num_series': 1,\n",
    "        'patch_size': 16,\n",
    "        'patch_stride':8\n",
    "    }\n",
    ")"
   ]
  },
  {
   "cell_type": "code",
   "execution_count": null,
   "metadata": {},
   "outputs": [],
   "source": [
    "print(f\"num of total parameters: {model.num_params['total']/1e6: .2f}M\")\n",
    "print(f\"num of trainable parameters: {model.num_params['grad']/1e6: .2f}M\")"
   ]
  },
  {
   "cell_type": "code",
   "execution_count": null,
   "metadata": {},
   "outputs": [],
   "source": [
    "tra = Trainer(model, use_amp=True, features=\"S\", num_workers=6)"
   ]
  },
  {
   "cell_type": "code",
   "execution_count": null,
   "metadata": {},
   "outputs": [],
   "source": [
    "tra.train(trainset, valset, batch_size=200, max_epochs=200, lr=0.001)"
   ]
  }
 ],
 "metadata": {
  "kernelspec": {
   "display_name": "base",
   "language": "python",
   "name": "python3"
  },
  "language_info": {
   "codemirror_mode": {
    "name": "ipython",
    "version": 3
   },
   "file_extension": ".py",
   "mimetype": "text/x-python",
   "name": "python",
   "nbconvert_exporter": "python",
   "pygments_lexer": "ipython3",
   "version": "3.9.17"
  },
  "orig_nbformat": 4
 },
 "nbformat": 4,
 "nbformat_minor": 2
}
